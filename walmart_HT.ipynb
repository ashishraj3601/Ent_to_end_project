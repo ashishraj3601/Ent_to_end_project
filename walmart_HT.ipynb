{
 "cells": [
  {
   "cell_type": "markdown",
   "id": "c0635e28-fe69-42c3-8f62-1e1143110b53",
   "metadata": {},
   "source": [
    "# 📊*Hypothesis Testing of Payment Methods* #\n",
    "## Impact on Profit Margins: A Case Study Using Walmart Sample Data  ##"
   ]
  },
  {
   "cell_type": "markdown",
   "id": "99e4d045-0234-49a5-be3b-f222a1addec3",
   "metadata": {
    "jp-MarkdownHeadingCollapsed": true
   },
   "source": [
    "### 📌 Problem Statement:\n",
    " **Identify whether the mode of payment (Cash vs Ewallet) has a significant impact on the average profit margin.**"
   ]
  },
  {
   "cell_type": "markdown",
   "id": "3753b0e2-39a8-4b5b-8deb-e624b9c19b9a",
   "metadata": {},
   "source": [
    "### 📚Importing Libraries and Loading Dataset ###"
   ]
  },
  {
   "cell_type": "code",
   "execution_count": 11,
   "id": "943e94d8-830d-4dd9-a606-2d72a78c9a98",
   "metadata": {},
   "outputs": [],
   "source": [
    "import pandas as pd\n",
    "import numpy as np\n",
    "import seaborn as sns\n",
    "import matplotlib.pyplot as plt\n",
    "import scipy.stats as st\n",
    "import statsmodels.api as sm"
   ]
  },
  {
   "cell_type": "code",
   "execution_count": 12,
   "id": "0ee3fae1-d3ab-4330-8ccc-034df9404f3c",
   "metadata": {},
   "outputs": [
    {
     "data": {
      "text/html": [
       "<div>\n",
       "<style scoped>\n",
       "    .dataframe tbody tr th:only-of-type {\n",
       "        vertical-align: middle;\n",
       "    }\n",
       "\n",
       "    .dataframe tbody tr th {\n",
       "        vertical-align: top;\n",
       "    }\n",
       "\n",
       "    .dataframe thead th {\n",
       "        text-align: right;\n",
       "    }\n",
       "</style>\n",
       "<table border=\"1\" class=\"dataframe\">\n",
       "  <thead>\n",
       "    <tr style=\"text-align: right;\">\n",
       "      <th></th>\n",
       "      <th>invoice_id</th>\n",
       "      <th>Branch</th>\n",
       "      <th>City</th>\n",
       "      <th>category</th>\n",
       "      <th>unit_price</th>\n",
       "      <th>quantity</th>\n",
       "      <th>date</th>\n",
       "      <th>time</th>\n",
       "      <th>payment_method</th>\n",
       "      <th>rating</th>\n",
       "      <th>profit_margin</th>\n",
       "      <th>Total</th>\n",
       "    </tr>\n",
       "  </thead>\n",
       "  <tbody>\n",
       "    <tr>\n",
       "      <th>0</th>\n",
       "      <td>1</td>\n",
       "      <td>WALM003</td>\n",
       "      <td>San Antonio</td>\n",
       "      <td>Health and beauty</td>\n",
       "      <td>74.69</td>\n",
       "      <td>7.0</td>\n",
       "      <td>05/01/19</td>\n",
       "      <td>13:08:00</td>\n",
       "      <td>Ewallet</td>\n",
       "      <td>9.1</td>\n",
       "      <td>0.48</td>\n",
       "      <td>522.83</td>\n",
       "    </tr>\n",
       "    <tr>\n",
       "      <th>1</th>\n",
       "      <td>2</td>\n",
       "      <td>WALM048</td>\n",
       "      <td>Harlingen</td>\n",
       "      <td>Electronic accessories</td>\n",
       "      <td>15.28</td>\n",
       "      <td>5.0</td>\n",
       "      <td>08/03/19</td>\n",
       "      <td>10:29:00</td>\n",
       "      <td>Cash</td>\n",
       "      <td>9.6</td>\n",
       "      <td>0.48</td>\n",
       "      <td>76.40</td>\n",
       "    </tr>\n",
       "    <tr>\n",
       "      <th>2</th>\n",
       "      <td>3</td>\n",
       "      <td>WALM067</td>\n",
       "      <td>Haltom City</td>\n",
       "      <td>Home and lifestyle</td>\n",
       "      <td>46.33</td>\n",
       "      <td>7.0</td>\n",
       "      <td>03/03/19</td>\n",
       "      <td>13:23:00</td>\n",
       "      <td>Credit card</td>\n",
       "      <td>7.4</td>\n",
       "      <td>0.33</td>\n",
       "      <td>324.31</td>\n",
       "    </tr>\n",
       "    <tr>\n",
       "      <th>3</th>\n",
       "      <td>4</td>\n",
       "      <td>WALM064</td>\n",
       "      <td>Bedford</td>\n",
       "      <td>Health and beauty</td>\n",
       "      <td>58.22</td>\n",
       "      <td>8.0</td>\n",
       "      <td>27/01/19</td>\n",
       "      <td>20:33:00</td>\n",
       "      <td>Ewallet</td>\n",
       "      <td>8.4</td>\n",
       "      <td>0.33</td>\n",
       "      <td>465.76</td>\n",
       "    </tr>\n",
       "    <tr>\n",
       "      <th>4</th>\n",
       "      <td>5</td>\n",
       "      <td>WALM013</td>\n",
       "      <td>Irving</td>\n",
       "      <td>Sports and travel</td>\n",
       "      <td>86.31</td>\n",
       "      <td>7.0</td>\n",
       "      <td>08/02/19</td>\n",
       "      <td>10:37:00</td>\n",
       "      <td>Ewallet</td>\n",
       "      <td>5.3</td>\n",
       "      <td>0.48</td>\n",
       "      <td>604.17</td>\n",
       "    </tr>\n",
       "  </tbody>\n",
       "</table>\n",
       "</div>"
      ],
      "text/plain": [
       "   invoice_id   Branch         City                category  unit_price  \\\n",
       "0           1  WALM003  San Antonio       Health and beauty       74.69   \n",
       "1           2  WALM048    Harlingen  Electronic accessories       15.28   \n",
       "2           3  WALM067  Haltom City      Home and lifestyle       46.33   \n",
       "3           4  WALM064      Bedford       Health and beauty       58.22   \n",
       "4           5  WALM013       Irving       Sports and travel       86.31   \n",
       "\n",
       "   quantity      date      time payment_method  rating  profit_margin   Total  \n",
       "0       7.0  05/01/19  13:08:00        Ewallet     9.1           0.48  522.83  \n",
       "1       5.0  08/03/19  10:29:00           Cash     9.6           0.48   76.40  \n",
       "2       7.0  03/03/19  13:23:00    Credit card     7.4           0.33  324.31  \n",
       "3       8.0  27/01/19  20:33:00        Ewallet     8.4           0.33  465.76  \n",
       "4       7.0  08/02/19  10:37:00        Ewallet     5.3           0.48  604.17  "
      ]
     },
     "execution_count": 12,
     "metadata": {},
     "output_type": "execute_result"
    }
   ],
   "source": [
    "df=pd.read_csv('walmart_clean.csv')\n",
    "df.head()"
   ]
  },
  {
   "cell_type": "code",
   "execution_count": 13,
   "id": "d05fa10b-dae7-4dde-946d-cf5a16cc1174",
   "metadata": {},
   "outputs": [
    {
     "data": {
      "image/png": "[encoded data removed]",
      "text/plain": [
       "<Figure size 640x480 with 1 Axes>"
      ]
     },
     "metadata": {},
     "output_type": "display_data"
    }
   ],
   "source": [
    "data = df['profit_margin'].dropna()  # dropna to avoid errors due to missing values\n",
    "\n",
    "# Create QQ plot\n",
    "sm.qqplot(data, line='s')  # line='s' adds a standardized 45-degree reference line\n",
    "plt.title(\"Q-Q Plot of Profit Margin\")\n",
    "plt.xlabel(\"Theoretical Quantiles\")\n",
    "plt.ylabel(\"Sample Quantiles\")\n",
    "plt.grid(True)\n",
    "plt.show()"
   ]
  },
  {
   "cell_type": "markdown",
   "id": "b71b34e9-e981-44dd-889a-9398e570966b",
   "metadata": {},
   "source": [
    "## 🧪 Hypothesis Formulation"
   ]
  },
  {
   "cell_type": "markdown",
   "id": "60d1df67-3470-4737-b766-fc49206941e3",
   "metadata": {},
   "source": [
    "#### H₀ (Null): There is no significant difference in the mean profit margin between Cash and Ewallet payments. ###\n",
    "#### H₁ (Alt): There is a significant difference in average profit margin between the two. ###"
   ]
  },
  {
   "cell_type": "markdown",
   "id": "df8e2185-5aa6-46c8-82e8-158c497a2ab3",
   "metadata": {},
   "source": [
    " ## 📊 Data Sampling:"
   ]
  },
  {
   "cell_type": "code",
   "execution_count": 3,
   "id": "ce54fb76-ead1-4209-8712-4ca7153294d7",
   "metadata": {},
   "outputs": [
    {
     "data": {
      "text/html": [
       "<div>\n",
       "<style scoped>\n",
       "    .dataframe tbody tr th:only-of-type {\n",
       "        vertical-align: middle;\n",
       "    }\n",
       "\n",
       "    .dataframe tbody tr th {\n",
       "        vertical-align: top;\n",
       "    }\n",
       "\n",
       "    .dataframe thead th {\n",
       "        text-align: right;\n",
       "    }\n",
       "</style>\n",
       "<table border=\"1\" class=\"dataframe\">\n",
       "  <thead>\n",
       "    <tr style=\"text-align: right;\">\n",
       "      <th></th>\n",
       "      <th>invoice_id</th>\n",
       "      <th>Branch</th>\n",
       "      <th>City</th>\n",
       "      <th>category</th>\n",
       "      <th>unit_price</th>\n",
       "      <th>quantity</th>\n",
       "      <th>date</th>\n",
       "      <th>time</th>\n",
       "      <th>payment_method</th>\n",
       "      <th>rating</th>\n",
       "      <th>profit_margin</th>\n",
       "      <th>Total</th>\n",
       "    </tr>\n",
       "  </thead>\n",
       "  <tbody>\n",
       "    <tr>\n",
       "      <th>0</th>\n",
       "      <td>1</td>\n",
       "      <td>WALM003</td>\n",
       "      <td>San Antonio</td>\n",
       "      <td>Health and beauty</td>\n",
       "      <td>74.69</td>\n",
       "      <td>7.0</td>\n",
       "      <td>05/01/19</td>\n",
       "      <td>13:08:00</td>\n",
       "      <td>Ewallet</td>\n",
       "      <td>9.1</td>\n",
       "      <td>0.48</td>\n",
       "      <td>522.83</td>\n",
       "    </tr>\n",
       "    <tr>\n",
       "      <th>1</th>\n",
       "      <td>2</td>\n",
       "      <td>WALM048</td>\n",
       "      <td>Harlingen</td>\n",
       "      <td>Electronic accessories</td>\n",
       "      <td>15.28</td>\n",
       "      <td>5.0</td>\n",
       "      <td>08/03/19</td>\n",
       "      <td>10:29:00</td>\n",
       "      <td>Cash</td>\n",
       "      <td>9.6</td>\n",
       "      <td>0.48</td>\n",
       "      <td>76.40</td>\n",
       "    </tr>\n",
       "    <tr>\n",
       "      <th>3</th>\n",
       "      <td>4</td>\n",
       "      <td>WALM064</td>\n",
       "      <td>Bedford</td>\n",
       "      <td>Health and beauty</td>\n",
       "      <td>58.22</td>\n",
       "      <td>8.0</td>\n",
       "      <td>27/01/19</td>\n",
       "      <td>20:33:00</td>\n",
       "      <td>Ewallet</td>\n",
       "      <td>8.4</td>\n",
       "      <td>0.33</td>\n",
       "      <td>465.76</td>\n",
       "    </tr>\n",
       "    <tr>\n",
       "      <th>4</th>\n",
       "      <td>5</td>\n",
       "      <td>WALM013</td>\n",
       "      <td>Irving</td>\n",
       "      <td>Sports and travel</td>\n",
       "      <td>86.31</td>\n",
       "      <td>7.0</td>\n",
       "      <td>08/02/19</td>\n",
       "      <td>10:37:00</td>\n",
       "      <td>Ewallet</td>\n",
       "      <td>5.3</td>\n",
       "      <td>0.48</td>\n",
       "      <td>604.17</td>\n",
       "    </tr>\n",
       "    <tr>\n",
       "      <th>5</th>\n",
       "      <td>6</td>\n",
       "      <td>WALM026</td>\n",
       "      <td>Denton</td>\n",
       "      <td>Electronic accessories</td>\n",
       "      <td>85.39</td>\n",
       "      <td>7.0</td>\n",
       "      <td>25/03/19</td>\n",
       "      <td>18:30:00</td>\n",
       "      <td>Ewallet</td>\n",
       "      <td>4.1</td>\n",
       "      <td>0.48</td>\n",
       "      <td>597.73</td>\n",
       "    </tr>\n",
       "  </tbody>\n",
       "</table>\n",
       "</div>"
      ],
      "text/plain": [
       "   invoice_id   Branch         City                category  unit_price  \\\n",
       "0           1  WALM003  San Antonio       Health and beauty       74.69   \n",
       "1           2  WALM048    Harlingen  Electronic accessories       15.28   \n",
       "3           4  WALM064      Bedford       Health and beauty       58.22   \n",
       "4           5  WALM013       Irving       Sports and travel       86.31   \n",
       "5           6  WALM026       Denton  Electronic accessories       85.39   \n",
       "\n",
       "   quantity      date      time payment_method  rating  profit_margin   Total  \n",
       "0       7.0  05/01/19  13:08:00        Ewallet     9.1           0.48  522.83  \n",
       "1       5.0  08/03/19  10:29:00           Cash     9.6           0.48   76.40  \n",
       "3       8.0  27/01/19  20:33:00        Ewallet     8.4           0.33  465.76  \n",
       "4       7.0  08/02/19  10:37:00        Ewallet     5.3           0.48  604.17  \n",
       "5       7.0  25/03/19  18:30:00        Ewallet     4.1           0.48  597.73  "
      ]
     },
     "execution_count": 3,
     "metadata": {},
     "output_type": "execute_result"
    }
   ],
   "source": [
    "#filter dataset showing for  cash and Ewallet payment method\n",
    "df_filtered= df[df['payment_method'].isin(['Cash', 'Ewallet'])]\n",
    "df_filtered.head()"
   ]
  },
  {
   "cell_type": "code",
   "execution_count": 4,
   "id": "4fdf53ca-6218-45b6-84bf-5bc6e18d0a51",
   "metadata": {},
   "outputs": [
    {
     "data": {
      "text/plain": [
       "1       0.48\n",
       "11      0.48\n",
       "14      0.48\n",
       "15      0.48\n",
       "26      0.33\n",
       "        ... \n",
       "9963    0.48\n",
       "9964    0.33\n",
       "9965    0.48\n",
       "9967    0.48\n",
       "9968    0.33\n",
       "Name: profit_margin, Length: 1832, dtype: float64"
      ]
     },
     "execution_count": 4,
     "metadata": {},
     "output_type": "execute_result"
    }
   ],
   "source": [
    "#let sample of profit_margin with cash payment as 'C'\n",
    "C=df_filtered[df_filtered['payment_method']=='Cash']['profit_margin']\n",
    "C"
   ]
  },
  {
   "cell_type": "code",
   "execution_count": 5,
   "id": "d8a7fad4-3d63-4132-8648-2af2a4961068",
   "metadata": {},
   "outputs": [
    {
     "data": {
      "text/plain": [
       "0       0.48\n",
       "3       0.33\n",
       "4       0.48\n",
       "5       0.48\n",
       "6       0.33\n",
       "        ... \n",
       "8588    0.48\n",
       "8592    0.48\n",
       "8595    0.48\n",
       "8621    0.48\n",
       "8693    0.48\n",
       "Name: profit_margin, Length: 3881, dtype: float64"
      ]
     },
     "execution_count": 5,
     "metadata": {},
     "output_type": "execute_result"
    }
   ],
   "source": [
    "#let sample of profit_margin with Ewallet payment as 'E'\n",
    "E=df_filtered[df_filtered['payment_method']=='Ewallet']['profit_margin']\n",
    "E"
   ]
  },
  {
   "cell_type": "markdown",
   "id": "d842c70e-acbd-4af9-a7ed-21b005c0ede1",
   "metadata": {},
   "source": [
    "## 📈 Descriptive Statistics:"
   ]
  },
  {
   "cell_type": "code",
   "execution_count": 58,
   "id": "ea6dd534-c733-4c8f-abd6-8e4f4d56c3dc",
   "metadata": {},
   "outputs": [
    {
     "data": {
      "text/plain": [
       "0.37563864628820964"
      ]
     },
     "execution_count": 58,
     "metadata": {},
     "output_type": "execute_result"
    }
   ],
   "source": [
    "# let mean_cash_sample as x1 \n",
    "x1=np.mean(C)\n",
    "x1"
   ]
  },
  {
   "cell_type": "code",
   "execution_count": 59,
   "id": "40cdb39d-0195-42af-b7e9-14c994f24946",
   "metadata": {},
   "outputs": [
    {
     "data": {
      "text/plain": [
       "0.407446534398351"
      ]
     },
     "execution_count": 59,
     "metadata": {},
     "output_type": "execute_result"
    }
   ],
   "source": [
    "# let mean_Ewallet_sample as x2\n",
    "x2=np.mean(E)\n",
    "x2"
   ]
  },
  {
   "cell_type": "code",
   "execution_count": 69,
   "id": "3accf210-da4b-41cc-883a-3e19cd4b9757",
   "metadata": {},
   "outputs": [
    {
     "data": {
      "text/plain": [
       "(1832, 3881)"
      ]
     },
     "execution_count": 69,
     "metadata": {},
     "output_type": "execute_result"
    }
   ],
   "source": [
    "#let n1 as size of cash sample\n",
    "#let n2 as size of Ewallet sample\n",
    "n1,n2=C.shape[0],E.shape[0]\n",
    "n1,n2"
   ]
  },
  {
   "cell_type": "code",
   "execution_count": 70,
   "id": "77f5cd50-b5fe-48e7-bf81-379859a38662",
   "metadata": {},
   "outputs": [
    {
     "data": {
      "text/plain": [
       "(0.08864473517445862, 0.09057717409403442)"
      ]
     },
     "execution_count": 70,
     "metadata": {},
     "output_type": "execute_result"
    }
   ],
   "source": [
    "#let s1 as std of cash sample\n",
    "#let s2 as std of Ewallet sample\n",
    "\n",
    "s1,s2=np.std(C),np.std(E)\n",
    "s1,s2"
   ]
  },
  {
   "cell_type": "markdown",
   "id": "07496836-164f-4bf0-a50b-921d45877733",
   "metadata": {},
   "source": [
    "## 🧮 T-Test Calculation:"
   ]
  },
  {
   "cell_type": "code",
   "execution_count": 78,
   "id": "6f15d8b1-6f98-41d2-a971-ebd04b2e0a69",
   "metadata": {},
   "outputs": [
    {
     "data": {
      "text/plain": [
       "-12.57004261811837"
      ]
     },
     "execution_count": 78,
     "metadata": {},
     "output_type": "execute_result"
    }
   ],
   "source": [
    "t_cal = (x1 - x2) / np.sqrt((s1**2)/n1 + (s2**2)/n2)\n",
    "t_cal\n"
   ]
  },
  {
   "cell_type": "code",
   "execution_count": 74,
   "id": "557a83a9-fa8a-44be-b13a-bde60f4a5c32",
   "metadata": {},
   "outputs": [
    {
     "data": {
      "text/plain": [
       "3660.923239309889"
      ]
     },
     "execution_count": 74,
     "metadata": {},
     "output_type": "execute_result"
    }
   ],
   "source": [
    "#calculation of df(degree of freedom)\n",
    "num = ((s1**2)/n1 + (s2**2)/n2)**2\n",
    "den = (((s1**2)/n1)**2)/(n1 - 1) + (((s2**2)/n2)**2)/(n2 - 1)\n",
    "df = num / den\n",
    "df"
   ]
  },
  {
   "cell_type": "code",
   "execution_count": 79,
   "id": "ec342791-5600-407f-be6d-9c3c82b0ad88",
   "metadata": {},
   "outputs": [
    {
     "data": {
      "text/plain": [
       "1.960612193269359"
      ]
     },
     "execution_count": 79,
     "metadata": {},
     "output_type": "execute_result"
    }
   ],
   "source": [
    "alpha = 0.05\n",
    "t_critical = st.t.ppf(1 - alpha/2, df)\n",
    "t_critical"
   ]
  },
  {
   "cell_type": "markdown",
   "id": "545d29ab-0370-4fd8-9f5b-855e8dea6905",
   "metadata": {},
   "source": [
    "## 🧾 Result Interpretation:"
   ]
  },
  {
   "cell_type": "markdown",
   "id": "89461756-5f2f-4080-8385-fc80165edf69",
   "metadata": {},
   "source": [
    "**As t_cal=12.57 > t_critical=1.96**\n",
    "This means:\n",
    "           ❌ **Reject the Null Hypothesis**"
   ]
  },
  {
   "cell_type": "markdown",
   "id": "f6d4fa47-21d3-4c88-b1d5-2e1aed3a000d",
   "metadata": {},
   "source": [
    "## 📌 Conclusion:"
   ]
  },
  {
   "cell_type": "markdown",
   "id": "ee904f8a-f712-46ec-8f80-5ed3f098b451",
   "metadata": {},
   "source": [
    "***There is a statistically significant difference in the average profit margin between customers who pay by Cash and those who use Ewallet, at the 95% confidence level.And since t_cal is negative:\n",
    "It means the mean profit margin for Cash is significantly lower than that for Ewallet***\n",
    "\n"
   ]
  },
  {
   "cell_type": "markdown",
   "id": "ed26346c-44d3-4529-b06f-ade617da1aea",
   "metadata": {},
   "source": [
    "## 💡 Insight & Recommendation:"
   ]
  },
  {
   "cell_type": "markdown",
   "id": "cc66813a-7046-4407-be5e-212eeba037de",
   "metadata": {},
   "source": [
    "**Cash payments are associated with significantly lower profit margins compared to Ewallet transactions.\n",
    "It is recommended that the company promote Ewallet usage through targeted offers or incentives, as it may lead to higher profitability per transaction.**\n",
    "\n"
   ]
  },
  {
   "cell_type": "code",
   "execution_count": null,
   "id": "93b4d7e2-07e8-4f8a-9aaa-711dff686172",
   "metadata": {},
   "outputs": [],
   "source": []
  }
 ],
 "metadata": {
  "kernelspec": {
   "display_name": "Python 3 (ipykernel)",
   "language": "python",
   "name": "python3"
  },
  "language_info": {
   "codemirror_mode": {
    "name": "ipython",
    "version": 3
   },
   "file_extension": ".py",
   "mimetype": "text/x-python",
   "name": "python",
   "nbconvert_exporter": "python",
   "pygments_lexer": "ipython3",
   "version": "3.12.7"
  }
 },
 "nbformat": 4,
 "nbformat_minor": 5
}
